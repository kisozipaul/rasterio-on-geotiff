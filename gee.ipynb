{
  "nbformat": 4,
  "nbformat_minor": 0,
  "metadata": {
    "colab": {
      "provenance": []
    },
    "kernelspec": {
      "name": "python3",
      "display_name": "Python 3"
    },
    "language_info": {
      "name": "python"
    }
  },
  "cells": [
    {
      "cell_type": "code",
      "execution_count": 24,
      "metadata": {
        "id": "DT3HubhfAq5t"
      },
      "outputs": [],
      "source": [
        "# Install Earth Engine API\n",
        "!pip install -q earthengine-api"
      ]
    },
    {
      "cell_type": "code",
      "source": [
        "import ee\n",
        "ee.Authenticate()"
      ],
      "metadata": {
        "colab": {
          "base_uri": "https://localhost:8080/"
        },
        "id": "Nrz3bUxuAt_B",
        "outputId": "2b5826b3-4be6-4c5e-feac-0c2c00ae1752"
      },
      "execution_count": 25,
      "outputs": [
        {
          "output_type": "execute_result",
          "data": {
            "text/plain": [
              "True"
            ]
          },
          "metadata": {},
          "execution_count": 25
        }
      ]
    },
    {
      "cell_type": "code",
      "source": [
        "ee.Initialize(project='deforestation-463506')"
      ],
      "metadata": {
        "id": "-nc8cZ5IA4Y2"
      },
      "execution_count": 26,
      "outputs": []
    },
    {
      "cell_type": "code",
      "source": [
        "import datetime\n",
        "\n",
        "# Define AOI: bounding box around Mabira Forest\n",
        "region = ee.Geometry.Rectangle([32.9, 0.35, 33.1, 0.55])\n",
        "\n",
        "# Time range\n",
        "start = ee.Date('2018-01-01')\n",
        "end   = ee.Date('2022-12-31')\n",
        "\n",
        "# Monthly export parameters\n",
        "num_patches = 2\n",
        "patch_size = 128  # meters\n"
      ],
      "metadata": {
        "id": "6BNqmV9RDqAO"
      },
      "execution_count": 27,
      "outputs": []
    },
    {
      "cell_type": "code",
      "source": [
        "def monthly_composite_labels(m):\n",
        "    start_m = start.advance(m, 'month')\n",
        "    end_m = start_m.advance(1, 'month')\n",
        "    label = start_m.format('YYYY_MM')\n",
        "\n",
        "    s2 = (ee.ImageCollection('COPERNICUS/S2_SR')\n",
        "          .filterBounds(region)\n",
        "          .filterDate(start_m, end_m)\n",
        "          .filter(ee.Filter.lt('CLOUDY_PIXEL_PERCENTAGE', 20)))\n",
        "\n",
        "    median = ee.Image(s2.median()).clip(region)\n",
        "\n",
        "    # Spectral bands\n",
        "    nir = median.select('B8')\n",
        "    red = median.select('B4')\n",
        "    green = median.select('B3')\n",
        "    blue = median.select('B2')\n",
        "    swir = median.select('B12')\n",
        "\n",
        "    # Indices\n",
        "    ndvi = nir.subtract(red).divide(nir.add(red)).rename('NDVI')\n",
        "    evi = nir.subtract(red).multiply(2.5) \\\n",
        "          .divide(nir.add(red.multiply(6)).subtract(blue.multiply(7.5)).add(1)).rename('EVI')\n",
        "    ndwi = green.subtract(nir).divide(green.add(nir)).rename('NDWI')\n",
        "    nbr = nir.subtract(swir).divide(nir.add(swir)).rename('NBR')\n",
        "\n",
        "    # Stack bands + indices\n",
        "    composite = median.select(['B4', 'B3', 'B2']).addBands([ndvi, evi, ndwi, nbr])\n",
        "\n",
        "    # Hansen forest loss mask\n",
        "    gfc = ee.Image('UMD/hansen/global_forest_change_2024_v1_12')\n",
        "    forest2000 = gfc.select('treecover2000').gt(30)\n",
        "    lossYear = gfc.select('lossyear')\n",
        "\n",
        "    year = ee.Number.parse(start_m.format('YYYY'))\n",
        "    loss_condition = lossYear.gte(year.subtract(2000)).And(lossYear.lte(year.subtract(2000)))\n",
        "\n",
        "    mask = forest2000.And(loss_condition).rename('forestMask').clip(region)\n",
        "\n",
        "    return {'composite': composite, 'mask': mask, 'label': label}\n"
      ],
      "metadata": {
        "id": "L5yuHPiUD-AW"
      },
      "execution_count": 28,
      "outputs": []
    },
    {
      "cell_type": "code",
      "source": [
        "# Export scheduled tasks\n",
        "for m in range(60):  # 4 years × 12 months\n",
        "    out = monthly_composite_labels(m)\n",
        "    seeds = ee.FeatureCollection.randomPoints(region, num_patches, m)\n",
        "\n",
        "    for i in range(num_patches):\n",
        "        geom = ee.Feature(seeds.toList(num_patches).get(i)).geometry()\n",
        "        id = out['label'].getInfo() + f'_{i+1}'\n",
        "\n",
        "        # Image export\n",
        "        ee.batch.Export.image.toDrive(\n",
        "            image=out['composite'],\n",
        "            description='IMG_' + id,\n",
        "            folder='MabiraForestData3',\n",
        "            fileNamePrefix='img_' + id,\n",
        "            region=geom.bounds(),\n",
        "            scale=10, maxPixels=1e9).start()\n",
        "\n",
        "        # Corresponding mask export\n",
        "        ee.batch.Export.image.toDrive(\n",
        "            image=out['mask'],\n",
        "            description='MASK_' + id,\n",
        "            folder='MabiraForestData3',\n",
        "            fileNamePrefix='mask_' + id,\n",
        "            region=geom.bounds(),\n",
        "            scale=10, maxPixels=1e9).start()\n",
        "\n",
        "print(\" 🚀 Exports started! You can monitor tasks at code.earthengine.google.com/tasks\")\n"
      ],
      "metadata": {
        "colab": {
          "base_uri": "https://localhost:8080/"
        },
        "id": "j20-PxPPGccn",
        "outputId": "1250c5f2-3931-4027-fd7f-c28cc60ac989"
      },
      "execution_count": 29,
      "outputs": [
        {
          "output_type": "stream",
          "name": "stdout",
          "text": [
            " 🚀 Exports started! You can monitor tasks at code.earthengine.google.com/tasks\n"
          ]
        }
      ]
    }
  ]
}